{
  "nbformat": 4,
  "nbformat_minor": 0,
  "metadata": {
    "colab": {
      "name": "Forecasting model.ipynb",
      "version": "0.3.2",
      "provenance": [],
      "collapsed_sections": []
    },
    "kernelspec": {
      "name": "python3",
      "display_name": "Python 3"
    }
  },
  "cells": [
    {
      "metadata": {
        "id": "wNiiYCulge0l",
        "colab_type": "code",
        "colab": {
          "base_uri": "https://localhost:8080/",
          "height": 34
        },
        "outputId": "105ffdac-b9f2-46df-8fce-4e7833dfdd65"
      },
      "cell_type": "code",
      "source": [
        "import pandas as pd\n",
        "import numpy as np\n",
        "import matplotlib.pyplot as plt\n",
        "from math import sqrt\n",
        "\n",
        "# model itself\n",
        "from keras.models import Sequential\n",
        "from keras.layers import LSTM\n",
        "from keras.layers import Dense\n",
        "from sklearn.metrics import mean_absolute_error, mean_squared_error"
      ],
      "execution_count": 1,
      "outputs": [
        {
          "output_type": "stream",
          "text": [
            "Using TensorFlow backend.\n"
          ],
          "name": "stderr"
        }
      ]
    },
    {
      "metadata": {
        "id": "fr1lb2-bmSI8",
        "colab_type": "code",
        "colab": {}
      },
      "cell_type": "code",
      "source": [
        "df = pd.read_csv('pvdaq_2012_2014_hourly.csv', header=0, infer_datetime_format=True, parse_dates=['Date-Time'], index_col=['Date-Time'])"
      ],
      "execution_count": 0,
      "outputs": []
    },
    {
      "metadata": {
        "id": "T7YJpUjlmo35",
        "colab_type": "code",
        "colab": {}
      },
      "cell_type": "code",
      "source": [
        "df = pd.read_csv('pvdaq_2012_2014_hourly.csv')"
      ],
      "execution_count": 0,
      "outputs": []
    },
    {
      "metadata": {
        "id": "m1uZU92wfwWx",
        "colab_type": "code",
        "colab": {
          "base_uri": "https://localhost:8080/",
          "height": 306
        },
        "outputId": "e3bb9679-defb-49a6-e553-24f02c74b315"
      },
      "cell_type": "code",
      "source": [
        "df.dtypes"
      ],
      "execution_count": 3,
      "outputs": [
        {
          "output_type": "execute_result",
          "data": {
            "text/plain": [
              "SiteID                 float64\n",
              "ac_current             float64\n",
              "ac_power               float64\n",
              "ac_voltage             float64\n",
              "ambient_temp           float64\n",
              "dc_current             float64\n",
              "dc_power               float64\n",
              "dc_voltage             float64\n",
              "inverter_error_code    float64\n",
              "inverter_temp          float64\n",
              "module_temp            float64\n",
              "poa_irradiance         float64\n",
              "power_factor           float64\n",
              "relative_humidity      float64\n",
              "wind_direction         float64\n",
              "wind_speed             float64\n",
              "dtype: object"
            ]
          },
          "metadata": {
            "tags": []
          },
          "execution_count": 3
        }
      ]
    },
    {
      "metadata": {
        "id": "OBJtEoCko4Zo",
        "colab_type": "code",
        "colab": {}
      },
      "cell_type": "code",
      "source": [
        "# columns to use for forecasting\n",
        "cols = ['ambient_temp', 'inverter_temp', 'module_temp', 'poa_irradiance', \n",
        "        'relative_humidity', 'wind_direction', 'wind_speed']\n",
        "time_indexes = [df.index.hour, df.index.month]\n",
        "# we will forecast dc power output\n",
        "target = ['dc_power']"
      ],
      "execution_count": 0,
      "outputs": []
    },
    {
      "metadata": {
        "id": "7OXFiFvDpN2e",
        "colab_type": "code",
        "colab": {}
      },
      "cell_type": "code",
      "source": [
        "# array stacking\n",
        "def create_sequence(df, cols, target):\n",
        "  seqs = []\n",
        "  for col in cols:\n",
        "    seq = df[col].values.reshape((len(df[col]), 1))\n",
        "    seqs.append(seq)\n",
        "  for index in time_indexes:\n",
        "    seq = index.values.reshape((len(df[col]), 1))\n",
        "    seqs.append(seq)\n",
        "  seq = df[target].values.reshape((len(df[target]), 1))\n",
        "  for i in range(len(seq)):\n",
        "    if seq[i] < 0:\n",
        "      seq[i] = 0\n",
        "  seqs.append(seq)\n",
        "  dataset = np.hstack((seqs))  \n",
        "  return dataset\n",
        "\n",
        "dataset = (create_sequence(df, cols, target))"
      ],
      "execution_count": 0,
      "outputs": []
    },
    {
      "metadata": {
        "id": "Xw4Y9hYpz6E8",
        "colab_type": "code",
        "outputId": "f5b32378-9be2-436a-b08e-93702790104a",
        "colab": {
          "base_uri": "https://localhost:8080/",
          "height": 34
        }
      },
      "cell_type": "code",
      "source": [
        "dataset.shape"
      ],
      "execution_count": 54,
      "outputs": [
        {
          "output_type": "execute_result",
          "data": {
            "text/plain": [
              "(26304, 10)"
            ]
          },
          "metadata": {
            "tags": []
          },
          "execution_count": 54
        }
      ]
    },
    {
      "metadata": {
        "id": "v_5mg7qy0Zod",
        "colab_type": "code",
        "colab": {}
      },
      "cell_type": "code",
      "source": [
        "# single step multivariate sequence\n",
        "def split_sequence(sequence, n_steps):\n",
        "  X, y = list(), list()\n",
        "  for i in range(len(sequence)):\n",
        "    end_ix = i + n_steps\n",
        "    # check if we are not beyond range\n",
        "    if end_ix > len(sequence)-1:\n",
        "      break\n",
        "    seq_x, seq_y = sequence[i:end_ix, :], sequence[end_ix ,-1]\n",
        "    X.append(seq_x)\n",
        "    y.append(seq_y)\n",
        "  return np.array(X), np.array(y)"
      ],
      "execution_count": 0,
      "outputs": []
    },
    {
      "metadata": {
        "id": "9cZYlBOl3wyG",
        "colab_type": "code",
        "outputId": "52178549-c2c0-4998-eb7b-b220bab75026",
        "colab": {
          "base_uri": "https://localhost:8080/",
          "height": 34
        }
      },
      "cell_type": "code",
      "source": [
        "X, y = split_sequence(dataset, 4)\n",
        "print(X. shape, y.shape)"
      ],
      "execution_count": 14,
      "outputs": [
        {
          "output_type": "stream",
          "text": [
            "(26300, 4, 10) (26300,)\n"
          ],
          "name": "stdout"
        }
      ]
    },
    {
      "metadata": {
        "id": "3Jq_8dj534aJ",
        "colab_type": "code",
        "outputId": "4500c150-5829-4ac5-be85-46c833372e0c",
        "colab": {
          "base_uri": "https://localhost:8080/",
          "height": 272
        }
      },
      "cell_type": "code",
      "source": [
        "print(df.head(1), y[11])"
      ],
      "execution_count": 36,
      "outputs": [
        {
          "output_type": "stream",
          "text": [
            "            SiteID  ac_current  ac_power  ac_voltage  ambient_temp  \\\n",
            "Date-Time                                                            \n",
            "2012-01-01  1277.0         0.0    -150.0       285.5      4.437502   \n",
            "\n",
            "            dc_current  dc_power  dc_voltage  inverter_error_code  \\\n",
            "Date-Time                                                           \n",
            "2012-01-01        -1.0    -100.0        0.25                  0.0   \n",
            "\n",
            "            inverter_temp  module_temp  poa_irradiance  power_factor  \\\n",
            "Date-Time                                                              \n",
            "2012-01-01           16.5     0.208335             0.0           0.0   \n",
            "\n",
            "            relative_humidity  wind_direction  wind_speed  \n",
            "Date-Time                                                  \n",
            "2012-01-01             44.628        306.7035    0.565841   [23400. 22800. 18025. 11475.  3850.   325.]\n"
          ],
          "name": "stdout"
        }
      ]
    },
    {
      "metadata": {
        "id": "o9T78H8Bs4QO",
        "colab_type": "code",
        "colab": {}
      },
      "cell_type": "code",
      "source": [
        "def split_sequence_multi(sequence, n_steps, n_steps_out):\n",
        "  X, y = list(), list()\n",
        "  for i in range(len(sequence)):\n",
        "    end_ix = i + n_steps\n",
        "    out_ix = end_ix + n_steps_out\n",
        "    # boundary check\n",
        "    if out_ix > len(sequence):\n",
        "      break\n",
        "    seq_x, seq_y = sequence[i:end_ix, :], sequence[end_ix:out_ix, -1]\n",
        "    X.append(seq_x)\n",
        "    y.append(seq_y)\n",
        "  return np.array(X), np.array(y)\n",
        "    "
      ],
      "execution_count": 0,
      "outputs": []
    },
    {
      "metadata": {
        "id": "dJodg0zHuI_z",
        "colab_type": "code",
        "outputId": "3993916b-209f-4fac-bcea-40c97a9dc151",
        "colab": {
          "base_uri": "https://localhost:8080/",
          "height": 34
        }
      },
      "cell_type": "code",
      "source": [
        "X, y = split_sequence_multi(dataset, 12, 6)\n",
        "print(X.shape, y.shape)"
      ],
      "execution_count": 7,
      "outputs": [
        {
          "output_type": "stream",
          "text": [
            "(26287, 12, 10) (26287, 6)\n"
          ],
          "name": "stdout"
        }
      ]
    },
    {
      "metadata": {
        "id": "5WT8n3NJsgFb",
        "colab_type": "code",
        "outputId": "58afcc7e-3b42-41ef-94a3-b32cba944c8f",
        "colab": {
          "base_uri": "https://localhost:8080/",
          "height": 85
        }
      },
      "cell_type": "code",
      "source": [
        "X[0][0], y[0]"
      ],
      "execution_count": 8,
      "outputs": [
        {
          "output_type": "execute_result",
          "data": {
            "text/plain": [
              "(array([4.43750176e+00, 1.65000000e+01, 2.08334750e-01, 0.00000000e+00,\n",
              "        4.46280000e+01, 3.06703500e+02, 5.65840880e-01, 0.00000000e+00,\n",
              "        1.00000000e+00, 0.00000000e+00]),\n",
              " array([22600., 18175., 13400.,  3400.,   125.,     0.]))"
            ]
          },
          "metadata": {
            "tags": []
          },
          "execution_count": 8
        }
      ]
    },
    {
      "metadata": {
        "id": "FAvPK969xtpG",
        "colab_type": "code",
        "outputId": "83482897-0b46-46a3-dfaa-d92bcf221204",
        "colab": {
          "base_uri": "https://localhost:8080/",
          "height": 479
        }
      },
      "cell_type": "code",
      "source": [
        "# n_steps is amount of time steps per sample\n",
        "# n_steps_out is the amount of time steps model has to forecast\n",
        "n_steps, n_steps_out = 24, 6\n",
        "# number of features in each timestep\n",
        "n_features=X.shape[2]\n",
        "X, y = split_sequence_multi(dataset, n_steps, n_steps_out)\n",
        "train_X, train_y = X[:-20,:], y[:-20,:]\n",
        "test_X, test_y = X[-20:,:], y[-20:,:]\n",
        "\n",
        "model = Sequential()\n",
        "model.\n",
        "model.add(LSTM(300, activation='relu', return_sequences=True, input_shape=(n_steps, n_features)))\n",
        "model.add(LSTM(200, activation='relu'))\n",
        "model.add(Dense(n_steps_out))\n",
        "model.compile(optimizer='adam', loss='mse')\n",
        "\n",
        "model.fit(train_X, train_y, epochs = 20)\n",
        "\n",
        "predictions = model.predict(test_X)\n",
        "\n"
      ],
      "execution_count": 9,
      "outputs": [
        {
          "output_type": "stream",
          "text": [
            "WARNING:tensorflow:From /usr/local/lib/python3.6/dist-packages/tensorflow/python/framework/op_def_library.py:263: colocate_with (from tensorflow.python.framework.ops) is deprecated and will be removed in a future version.\n",
            "Instructions for updating:\n",
            "Colocations handled automatically by placer.\n",
            "WARNING:tensorflow:From /usr/local/lib/python3.6/dist-packages/tensorflow/python/ops/math_ops.py:3066: to_int32 (from tensorflow.python.ops.math_ops) is deprecated and will be removed in a future version.\n",
            "Instructions for updating:\n",
            "Use tf.cast instead.\n",
            "Epoch 1/10\n",
            "26255/26255 [==============================] - 183s 7ms/step - loss: 6189.2890\n",
            "Epoch 2/10\n",
            "26255/26255 [==============================] - 180s 7ms/step - loss: 3765.2019\n",
            "Epoch 3/10\n",
            "26255/26255 [==============================] - 180s 7ms/step - loss: 3234.2630\n",
            "Epoch 4/10\n",
            "26255/26255 [==============================] - 181s 7ms/step - loss: 4208.2105\n",
            "Epoch 5/10\n",
            "26255/26255 [==============================] - 179s 7ms/step - loss: 4590.6082\n",
            "Epoch 6/10\n",
            "26255/26255 [==============================] - 174s 7ms/step - loss: 4084.5087\n",
            "Epoch 7/10\n",
            "26255/26255 [==============================] - 173s 7ms/step - loss: 3661.7316\n",
            "Epoch 8/10\n",
            "26255/26255 [==============================] - 172s 7ms/step - loss: 2998.3420\n",
            "Epoch 9/10\n",
            "26255/26255 [==============================] - 173s 7ms/step - loss: 2544.4166\n",
            "Epoch 10/10\n",
            "26255/26255 [==============================] - 173s 7ms/step - loss: 2327.0054\n"
          ],
          "name": "stdout"
        }
      ]
    },
    {
      "metadata": {
        "id": "hgVLs44FgVZJ",
        "colab_type": "code",
        "colab": {
          "base_uri": "https://localhost:8080/",
          "height": 34
        },
        "outputId": "576aca4e-1de9-4073-b0df-524f3b33de08"
      },
      "cell_type": "code",
      "source": [
        "X.shape, y.shape"
      ],
      "execution_count": 10,
      "outputs": [
        {
          "output_type": "execute_result",
          "data": {
            "text/plain": [
              "((26275, 24, 10), (26275, 6))"
            ]
          },
          "metadata": {
            "tags": []
          },
          "execution_count": 10
        }
      ]
    },
    {
      "metadata": {
        "id": "e4C_v56i_B0J",
        "colab_type": "code",
        "colab": {
          "base_uri": "https://localhost:8080/",
          "height": 34
        },
        "outputId": "5a32d604-ac85-46b8-d5ce-87025263e55a"
      },
      "cell_type": "code",
      "source": [
        "predictions1 = model.predict(train_X)\n",
        "mse = mean_squared_error(train_y, predictions1)\n",
        "rmse = sqrt(mse)\n",
        "mae = mean_absolute_error(train_y, predictions1)\n",
        "print(mse, rmse, mae)"
      ],
      "execution_count": 13,
      "outputs": [
        {
          "output_type": "stream",
          "text": [
            "14457035.265728503 3802.240821637749 2192.9482805505477\n"
          ],
          "name": "stdout"
        }
      ]
    },
    {
      "metadata": {
        "id": "PnHgOYHu4RbG",
        "colab_type": "code",
        "outputId": "ff988305-197b-4df6-efd7-d69a4dfd290c",
        "colab": {
          "base_uri": "https://localhost:8080/",
          "height": 2414
        }
      },
      "cell_type": "code",
      "source": [
        "mse = mean_squared_error(test_y, predictions)\n",
        "rmse = sqrt(mse)\n",
        "mae = mean_absolute_error(test_y, predictions)\n",
        "print(mse, rmse, mae)\n",
        "for i in range(len(test_y)):\n",
        "  print(\"prediction\" + str(i))\n",
        "  for j in range(n_steps_out):\n",
        "    print(int(abs(test_y[i][j]-predictions[i][j])), int(test_y[i][j]), int(predictions[i][j]))\n"
      ],
      "execution_count": 11,
      "outputs": [
        {
          "output_type": "stream",
          "text": [
            "33705334.64578794 5805.6295649815565 3910.296704999606\n",
            "prediction0\n",
            "66 0 66\n",
            "80 0 80\n",
            "96 0 96\n",
            "147 0 147\n",
            "148 0 148\n",
            "26 0 26\n",
            "prediction1\n",
            "238 0 -238\n",
            "89 0 -89\n",
            "79 0 -79\n",
            "56 0 -56\n",
            "155 0 -155\n",
            "182 0 -182\n",
            "prediction2\n",
            "496 0 -496\n",
            "14 0 -14\n",
            "141 0 141\n",
            "118 0 118\n",
            "95 0 -95\n",
            "182 0 -182\n",
            "prediction3\n",
            "340 0 -340\n",
            "89 0 89\n",
            "97 0 97\n",
            "9 0 -9\n",
            "268 0 -268\n",
            "244 0 -244\n",
            "prediction4\n",
            "761 0 -761\n",
            "397 0 397\n",
            "735 0 735\n",
            "590 0 590\n",
            "47 0 47\n",
            "296 150 -146\n",
            "prediction5\n",
            "734 0 734\n",
            "1256 0 1256\n",
            "1107 0 1107\n",
            "798 0 798\n",
            "157 150 307\n",
            "1473 1700 226\n",
            "prediction6\n",
            "1462 0 1462\n",
            "1799 0 1799\n",
            "1655 0 1655\n",
            "1658 150 1808\n",
            "451 1700 2151\n",
            "293 2850 3143\n",
            "prediction7\n",
            "598 0 598\n",
            "1854 0 1854\n",
            "3258 150 3408\n",
            "3814 1700 5514\n",
            "4944 2850 7794\n",
            "6526 3800 10326\n",
            "prediction8\n",
            "2116 0 2116\n",
            "3853 150 4003\n",
            "4437 1700 6137\n",
            "5753 2850 8603\n",
            "6931 3800 10731\n",
            "7135 5575 12710\n",
            "prediction9\n",
            "4027 150 4177\n",
            "5366 1700 7066\n",
            "6914 2850 9764\n",
            "8506 3800 12306\n",
            "8117 5575 13692\n",
            "8992 5400 14392\n",
            "prediction10\n",
            "6436 1700 8136\n",
            "8512 2850 11362\n",
            "9677 3800 13477\n",
            "9385 5575 14960\n",
            "9424 5400 14824\n",
            "9879 3975 13854\n",
            "prediction11\n",
            "10976 2850 13826\n",
            "12998 3800 16798\n",
            "11832 5575 17407\n",
            "11473 5400 16873\n",
            "10540 3975 14515\n",
            "9020 2200 11220\n",
            "prediction12\n",
            "14636 3800 18436\n",
            "14398 5575 19973\n",
            "13083 5400 18483\n",
            "11755 3975 15730\n",
            "9554 2200 11754\n",
            "6241 1200 7441\n",
            "prediction13\n",
            "11088 5575 16663\n",
            "12003 5400 17403\n",
            "11452 3975 15427\n",
            "10137 2200 12337\n",
            "7429 1200 8629\n",
            "4567 375 4942\n",
            "prediction14\n",
            "9986 5400 15386\n",
            "11375 3975 15350\n",
            "10632 2200 12832\n",
            "8171 1200 9371\n",
            "5674 375 6049\n",
            "3134 0 3134\n",
            "prediction15\n",
            "8214 3975 12189\n",
            "8743 2200 10943\n",
            "6768 1200 7968\n",
            "4319 375 4694\n",
            "2234 0 2234\n",
            "499 0 499\n",
            "prediction16\n",
            "6262 2200 8462\n",
            "5322 1200 6522\n",
            "3451 375 3826\n",
            "1356 0 1356\n",
            "30 0 -30\n",
            "707 0 -707\n",
            "prediction17\n",
            "3354 1200 4554\n",
            "2814 375 3189\n",
            "1639 0 1639\n",
            "423 0 423\n",
            "164 0 -164\n",
            "414 0 -414\n",
            "prediction18\n",
            "1020 375 1395\n",
            "917 0 917\n",
            "419 0 419\n",
            "20 0 -20\n",
            "116 0 -116\n",
            "87 0 -87\n",
            "prediction19\n",
            "153 0 -153\n",
            "706 0 706\n",
            "725 0 725\n",
            "91 0 91\n",
            "220 0 -220\n",
            "259 0 -259\n"
          ],
          "name": "stdout"
        }
      ]
    }
  ]
}